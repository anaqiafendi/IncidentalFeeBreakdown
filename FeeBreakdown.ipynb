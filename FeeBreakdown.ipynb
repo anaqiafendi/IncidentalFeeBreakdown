{
 "metadata": {
  "language_info": {
   "codemirror_mode": {
    "name": "ipython",
    "version": 3
   },
   "file_extension": ".py",
   "mimetype": "text/x-python",
   "name": "python",
   "nbconvert_exporter": "python",
   "pygments_lexer": "ipython3",
   "version": "3.8.5-final"
  },
  "orig_nbformat": 2,
  "kernelspec": {
   "name": "python38064bit8524944b7830403fbe33f0efba5bc94f",
   "display_name": "Python 3.8.0 64-bit"
  }
 },
 "nbformat": 4,
 "nbformat_minor": 2,
 "cells": [
  {
   "cell_type": "code",
   "execution_count": 2,
   "metadata": {},
   "outputs": [],
   "source": [
    "import pandas as pd\n",
    "import numpy as np\n",
    "import matplotlib.pyplot as plt\n",
    "import seaborn as sns\n",
    "import pdfplumber\n",
    "import re"
   ]
  },
  {
   "cell_type": "code",
   "execution_count": 3,
   "metadata": {
    "tags": []
   },
   "outputs": [],
   "source": [
    "with pdfplumber.open(\"Invoice.pdf\") as pdf_file:\n",
    "    data = []    \n",
    "    for i in range(0, len(pdf_file.pages)):\n",
    "        page_data = pdf_file.pages[i]\n",
    "        data.append(page_data.extract_text())"
   ]
  },
  {
   "cell_type": "code",
   "execution_count": 4,
   "metadata": {
    "tags": []
   },
   "outputs": [],
   "source": [
    "Incidentals = []\n",
    "for i in range(0,len(data)):\n",
    "    text_list = data[i].split('\\n') # split lines using \\n escape char\n",
    "    Ientries = [e for e in text_list if \"Incid\" in e]\n",
    "    Incidentals = Incidentals + Ientries\n",
    "\n",
    "# Pop the clauses from the list of incidentals\n",
    "Clauses = [e for e in Incidentals if not any(c.isdigit() for c in e)]\n",
    "Fees = [e for e in Incidentals if any(c.isdigit() for c in e)]"
   ]
  },
  {
   "cell_type": "code",
   "execution_count": 5,
   "metadata": {
    "tags": []
   },
   "outputs": [],
   "source": [
    "df = None\n",
    "for i in range(0,len(Fees)):\n",
    "    '''Create categories and text field fillings\n",
    "    Copnvert the text values from fees list into dict\n",
    "    The dictionary will be used to make a pandas df\n",
    "    '''\n",
    "\n",
    "    # Create some categories\n",
    "    fee_cats = Fees[i].split(' ')[1].split(':')\n",
    "\n",
    "    # Extract Actual Fee itself\n",
    "    # fee = re.findall(\"\\d+\\.\\d+\", Fees[i])\n",
    "    fee = float(Fees[i].split('$')[1].strip(' '))\n",
    "\n",
    "    # Extract fee description\n",
    "    desc = Fees[i].strip('Incid. ')\n",
    "    for cat_num in range(0,len(fee_cats)):\n",
    "        desc = desc.strip(fee_cats[cat_num])\n",
    "    desc = desc.split('$')[0].strip(' ').strip(':') # 1st (0) entry is description\n",
    "\n",
    "\n",
    "    '''Now we can construct the dictionary'''\n",
    "    my_dict = {}\n",
    "    \n",
    "    # Extract category fields\n",
    "    for cat_num in range(0,len(fee_cats)):\n",
    "        my_dict[\"Category \" + str(cat_num)] = fee_cats[cat_num]\n",
    "    \n",
    "    my_dict[\"Fees\"] = fee\n",
    "    my_dict[\"Description\"] = desc\n",
    "\n",
    "    if df is None: # Check to see if df has been created\n",
    "        df = pd.DataFrame([my_dict])\n",
    "\n",
    "    elif df is not None:\n",
    "        '''\n",
    "        Since this is the case in which the dataframe has been created already\n",
    "        we can simply append the data to the existing dataframe'''\n",
    "        df = df.append(my_dict, ignore_index=True)\n",
    "    "
   ]
  },
  {
   "cell_type": "code",
   "execution_count": null,
   "metadata": {},
   "outputs": [],
   "source": [
    "sns.set(style='whitegrid', context='talk')\n",
    "ax = sns.barplot(data=df.Fees)\n",
    "# Set up the matplotlib figure\n"
   ]
  },
  {
   "cell_type": "code",
   "execution_count": 15,
   "metadata": {
    "tags": []
   },
   "outputs": [],
   "source": [
    "def generate_breakdown_df(df,category='Category 1'):\n",
    "    df = df[[category,'Fees']]\n",
    "    cats = df[category].unique()\n",
    "    breakdown_df = None\n",
    "    my_dict = {}\n",
    "\n",
    "    for cat in cats:\n",
    "        fee_total = df.loc[df[category] == cat, 'Fees'].sum()\n",
    "        fee_total = round(fee_total,2)\n",
    "        # print('You pay $' + str(fee_total) + ' towards ' + str(cat))\n",
    "\n",
    "        my_dict[category] = cat\n",
    "        my_dict['Fees'] = fee_total\n",
    "\n",
    "        if breakdown_df is None: # Check to see if df has been created\n",
    "            breakdown_df = pd.DataFrame([my_dict])\n",
    "        elif breakdown_df is not None:\n",
    "            breakdown_df = df.append(my_dict, ignore_index=True)\n",
    "    \n",
    "    return breakdown_df"
   ]
  },
  {
   "cell_type": "code",
   "execution_count": 16,
   "metadata": {
    "tags": []
   },
   "outputs": [
    {
     "output_type": "execute_result",
     "data": {
      "text/plain": "   Category 1    Fees\n0         KPE  138.80\n1        UTSG   84.34\n2        UTSG   81.47\n3        UTSG   89.89\n4        Eng.    4.50\n..        ...     ...\n89       UTSU    2.77\n90       UTSU    0.50\n91       UTSU    0.76\n92    Varsity    2.93\n93    Varsity    5.86\n\n[94 rows x 2 columns]",
      "text/html": "<div>\n<style scoped>\n    .dataframe tbody tr th:only-of-type {\n        vertical-align: middle;\n    }\n\n    .dataframe tbody tr th {\n        vertical-align: top;\n    }\n\n    .dataframe thead th {\n        text-align: right;\n    }\n</style>\n<table border=\"1\" class=\"dataframe\">\n  <thead>\n    <tr style=\"text-align: right;\">\n      <th></th>\n      <th>Category 1</th>\n      <th>Fees</th>\n    </tr>\n  </thead>\n  <tbody>\n    <tr>\n      <th>0</th>\n      <td>KPE</td>\n      <td>138.80</td>\n    </tr>\n    <tr>\n      <th>1</th>\n      <td>UTSG</td>\n      <td>84.34</td>\n    </tr>\n    <tr>\n      <th>2</th>\n      <td>UTSG</td>\n      <td>81.47</td>\n    </tr>\n    <tr>\n      <th>3</th>\n      <td>UTSG</td>\n      <td>89.89</td>\n    </tr>\n    <tr>\n      <th>4</th>\n      <td>Eng.</td>\n      <td>4.50</td>\n    </tr>\n    <tr>\n      <th>...</th>\n      <td>...</td>\n      <td>...</td>\n    </tr>\n    <tr>\n      <th>89</th>\n      <td>UTSU</td>\n      <td>2.77</td>\n    </tr>\n    <tr>\n      <th>90</th>\n      <td>UTSU</td>\n      <td>0.50</td>\n    </tr>\n    <tr>\n      <th>91</th>\n      <td>UTSU</td>\n      <td>0.76</td>\n    </tr>\n    <tr>\n      <th>92</th>\n      <td>Varsity</td>\n      <td>2.93</td>\n    </tr>\n    <tr>\n      <th>93</th>\n      <td>Varsity</td>\n      <td>5.86</td>\n    </tr>\n  </tbody>\n</table>\n<p>94 rows × 2 columns</p>\n</div>"
     },
     "metadata": {},
     "execution_count": 16
    }
   ],
   "source": [
    "x = generate_breakdown_df(df=df)\n",
    "x"
   ]
  },
  {
   "cell_type": "code",
   "execution_count": 76,
   "metadata": {
    "tags": []
   },
   "outputs": [
    {
     "output_type": "stream",
     "name": "stdout",
     "text": "1634.8\n"
    }
   ],
   "source": [
    "print(df.Fees.sum())"
   ]
  },
  {
   "cell_type": "code",
   "execution_count": null,
   "metadata": {},
   "outputs": [],
   "source": [
    " # Create some categories\n",
    "fee_cats = Fees[i].split(' ')[i].split(':')\n",
    "\n",
    "# Extract Actual Fee itself\n",
    "fee = re.findall(\"\\d+\\.\\d+\", Fees[i])\\\n",
    "\n",
    "# Extract fee description\n",
    "desc = Fees[0].strip('Incid. ')\n",
    "for i in range(0,len(fee_cats)):\n",
    "    desc = desc.strip(fee_cats[i])\n",
    "desc = desc.split('$')[0].strip(' ').strip(':')\n",
    "\n",
    "\n",
    "''' Now we can construct the dictionary'''\n",
    "my_dict = {}\n",
    "    \n",
    "# Extract category fields\n",
    "for cat_num in range(0,len(fee_cats)):\n",
    "    my_dict[\"Category \" + str(cat_num)] = fee_cats[cat_num]\n",
    "    \n",
    "my_dict[\"Fees\"] = fee\n",
    "my_dict[\"Description\"] = desc\n",
    "\n",
    "pd.DataFrame.from_dict(my_dict)"
   ]
  }
 ]
}