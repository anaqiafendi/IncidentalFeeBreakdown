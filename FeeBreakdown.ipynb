{
 "metadata": {
  "language_info": {
   "codemirror_mode": {
    "name": "ipython",
    "version": 3
   },
   "file_extension": ".py",
   "mimetype": "text/x-python",
   "name": "python",
   "nbconvert_exporter": "python",
   "pygments_lexer": "ipython3",
   "version": "3.8.5-final"
  },
  "orig_nbformat": 2,
  "kernelspec": {
   "name": "python38064bit8524944b7830403fbe33f0efba5bc94f",
   "display_name": "Python 3.8.0 64-bit"
  }
 },
 "nbformat": 4,
 "nbformat_minor": 2,
 "cells": [
  {
   "cell_type": "code",
   "execution_count": 8,
   "metadata": {},
   "outputs": [],
   "source": [
    "import pandas as pd\n",
    "import numpy as np\n",
    "import matplotlib.pyplot as plt\n",
    "import seaborn as sns\n",
    "import pdfplumber"
   ]
  },
  {
   "cell_type": "code",
   "execution_count": 28,
   "metadata": {
    "tags": []
   },
   "outputs": [],
   "source": [
    "with pdfplumber.open(\"Invoice.pdf\") as pdf_file:\n",
    "    data = []    \n",
    "    for i in range(0, len(pdf_file.pages)):\n",
    "        page_data = pdf_file.pages[i]\n",
    "        data.append(page_data.extract_text())"
   ]
  },
  {
   "cell_type": "code",
   "execution_count": 31,
   "metadata": {
    "tags": []
   },
   "outputs": [],
   "source": [
    "Incidentals = []\n",
    "for i in range(0,len(data)):\n",
    "    text_list = data[i].split('\\n') # split lines using \\n escape char\n",
    "    Ientries = [e for e in text_list if \"Incid\" in e]\n",
    "    Incidentals = Incidentals + Ientries\n",
    "    '''\n",
    "    for j in range(0,len(text_list)):\n",
    "        text = text_list[j]\n",
    "        incid_fee_entries = [e for e in text_list if ]\n",
    "        '''"
   ]
  },
  {
   "cell_type": "code",
   "execution_count": 25,
   "metadata": {
    "tags": []
   },
   "outputs": [
    {
     "output_type": "execute_result",
     "data": {
      "text/plain": "'8/2/2020 Invoice'"
     },
     "metadata": {},
     "execution_count": 25
    }
   ],
   "source": [
    "data[0].split('\\n')[0]"
   ]
  },
  {
   "cell_type": "code",
   "execution_count": 32,
   "metadata": {},
   "outputs": [
    {
     "output_type": "execute_result",
     "data": {
      "text/plain": "['Incid. Stud.Soc.:ES Concrete Canoe Team-FT           $      1.37                ',\n 'Incid. Stud.Soc.:ES Concrete Toboggan Tm-FT          $      1.75                ',\n 'Incid. Stud.Soc.:ES Engineers in Action-FT           $      0.75                ',\n 'Incid. Stud.Soc.:ES Eng. w/o Borders -FT             $      1.50                ',\n 'Incid. Stud.Soc.:ES Formula SAE Racing Tm-FT         $      2.75                ',\n 'Incid. Stud.Soc.:ES Hum Powr Veh Desgn-FT            $      2.48                ',\n 'Incid. Stud.Soc.:ES Robotics fr Space Expl-FT        $      2.00                ',\n 'Incid. Stud.Soc.:ES Skule Endowmt Fund-FT            $     50.00                ',\n 'Incid. Stud.Soc.:ES Skule Night-FT                   $      1.95                ',\n 'Incid. Stud.Soc.:ES UofT Aerospace Team-FT           $      3.35                ',\n 'Incid. Stud.Soc.:ES Robotics Assoc-FT                $      2.00                ',\n 'Incid. Stud.Soc.:UTSU Bike Chain                     $      0.55                ',\n 'Incid. Stud.Soc.:UTSU Blue Sky Solar Racing Car      $      0.13                ',\n 'Incid. Stud.Soc.:UTSU Cdn Fed of Stdts (CFS)         $      8.39                ',\n 'Incid. Stud.Soc.:UTSU Cnt fr Women&Trans Ppl         $      1.50                ',\n 'Incid. Stud.Soc.:UTSU Cinema Studies Stdt Union      $      0.25                ',\n 'Incid. Stud.Soc.:UTSU Day Care Subsidy               $      0.50                ',\n 'Incid. Stud.Soc.:UTSU Downtown Legal Services        $      3.36                ',\n 'Incid. Stud.Soc.:UTSU Foster Children Program        $      0.05                ',\n 'Incid. Stud.Soc.:UTSU Health Init in Dev Cntries     $      0.25                ',\n 'Incid. Stud.Soc.:UTSU LGBTout                        $      0.25                ',\n 'Incid. Stud.Soc.:UTSU Ont Pub Int Res Gp(OPIRG)      $      0.50                ',\n 'Incid. Stud.Soc.:UTSU Orientation                    $      0.50                ',\n 'Incid. Stud.Soc.:UTSU Radical Roots                  $      0.15                ',\n 'Incid. Stud.Soc.:UTSU Sexual Ed & Peer Cns Ctre      $      0.25                ',\n 'Incid. Stud.Soc.:UTSU Stdts fr Barrier Free Accs     $      1.00                ',\n 'Incid. Stud.Soc.:UTSU UofT Aerospace Team            $      2.77                ',\n 'Incid. Stud.Soc.:UTSU Uoft Envrnmtl Res Netwk        $      0.50                ',\n 'Incid. Stud.Soc.:UTSU World Uni Srv of Cda Levy      $      0.76                ',\n 'Incid. Stud.Soc.:Varsity Publications-UG             $      2.93                ',\n 'HST may be incl. in fee amts. See ACORN Incidental Fee Stmt for   HST no. info. ']"
     },
     "metadata": {},
     "execution_count": 32
    }
   ],
   "source": [
    "Incidentals"
   ]
  }
 ]
}